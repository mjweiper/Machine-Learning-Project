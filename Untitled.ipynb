{
 "cells": [
  {
   "cell_type": "code",
   "execution_count": 1,
   "metadata": {},
   "outputs": [],
   "source": [
    "import matplotlib.pyplot as plt\n",
    "import numpy as np\n",
    "import pandas as pd"
   ]
  },
  {
   "cell_type": "code",
   "execution_count": 3,
   "metadata": {},
   "outputs": [
    {
     "data": {
      "text/html": [
       "<div>\n",
       "<style scoped>\n",
       "    .dataframe tbody tr th:only-of-type {\n",
       "        vertical-align: middle;\n",
       "    }\n",
       "\n",
       "    .dataframe tbody tr th {\n",
       "        vertical-align: top;\n",
       "    }\n",
       "\n",
       "    .dataframe thead th {\n",
       "        text-align: right;\n",
       "    }\n",
       "</style>\n",
       "<table border=\"1\" class=\"dataframe\">\n",
       "  <thead>\n",
       "    <tr style=\"text-align: right;\">\n",
       "      <th></th>\n",
       "      <th>YearCountry</th>\n",
       "      <th>Country</th>\n",
       "      <th>Year</th>\n",
       "      <th>Gold</th>\n",
       "      <th>Silver</th>\n",
       "      <th>Bronze</th>\n",
       "      <th>Total</th>\n",
       "      <th>Athletes</th>\n",
       "      <th>Population</th>\n",
       "      <th>GDP</th>\n",
       "    </tr>\n",
       "  </thead>\n",
       "  <tbody>\n",
       "    <tr>\n",
       "      <th>0</th>\n",
       "      <td>2016United States</td>\n",
       "      <td>United States</td>\n",
       "      <td>2016</td>\n",
       "      <td>46</td>\n",
       "      <td>37</td>\n",
       "      <td>38</td>\n",
       "      <td>121</td>\n",
       "      <td>554</td>\n",
       "      <td>321418820</td>\n",
       "      <td>18036.65</td>\n",
       "    </tr>\n",
       "    <tr>\n",
       "      <th>1</th>\n",
       "      <td>2016Great Britain</td>\n",
       "      <td>Great Britain</td>\n",
       "      <td>2016</td>\n",
       "      <td>27</td>\n",
       "      <td>23</td>\n",
       "      <td>17</td>\n",
       "      <td>67</td>\n",
       "      <td>366</td>\n",
       "      <td>65138232</td>\n",
       "      <td>2858.00</td>\n",
       "    </tr>\n",
       "    <tr>\n",
       "      <th>2</th>\n",
       "      <td>2016China</td>\n",
       "      <td>China</td>\n",
       "      <td>2016</td>\n",
       "      <td>26</td>\n",
       "      <td>18</td>\n",
       "      <td>26</td>\n",
       "      <td>70</td>\n",
       "      <td>413</td>\n",
       "      <td>1371220000</td>\n",
       "      <td>11007.72</td>\n",
       "    </tr>\n",
       "    <tr>\n",
       "      <th>3</th>\n",
       "      <td>2016Russia</td>\n",
       "      <td>Russia</td>\n",
       "      <td>2016</td>\n",
       "      <td>19</td>\n",
       "      <td>17</td>\n",
       "      <td>20</td>\n",
       "      <td>56</td>\n",
       "      <td>282</td>\n",
       "      <td>144096812</td>\n",
       "      <td>1310.21</td>\n",
       "    </tr>\n",
       "    <tr>\n",
       "      <th>4</th>\n",
       "      <td>2016Germany</td>\n",
       "      <td>Germany</td>\n",
       "      <td>2016</td>\n",
       "      <td>17</td>\n",
       "      <td>10</td>\n",
       "      <td>15</td>\n",
       "      <td>42</td>\n",
       "      <td>425</td>\n",
       "      <td>81413145</td>\n",
       "      <td>3363.45</td>\n",
       "    </tr>\n",
       "  </tbody>\n",
       "</table>\n",
       "</div>"
      ],
      "text/plain": [
       "         YearCountry        Country  Year  Gold  Silver  Bronze  Total  \\\n",
       "0  2016United States  United States  2016    46      37      38    121   \n",
       "1  2016Great Britain  Great Britain  2016    27      23      17     67   \n",
       "2          2016China          China  2016    26      18      26     70   \n",
       "3         2016Russia         Russia  2016    19      17      20     56   \n",
       "4        2016Germany        Germany  2016    17      10      15     42   \n",
       "\n",
       "   Athletes  Population       GDP  \n",
       "0       554   321418820  18036.65  \n",
       "1       366    65138232   2858.00  \n",
       "2       413  1371220000  11007.72  \n",
       "3       282   144096812   1310.21  \n",
       "4       425    81413145   3363.45  "
      ]
     },
     "execution_count": 3,
     "metadata": {},
     "output_type": "execute_result"
    }
   ],
   "source": [
    "# Read the csv file into a pandas DataFrame\n",
    "\n",
    "olympics = pd.read_csv('RawData/2016medalcount.csv')\n",
    "olympics.head()"
   ]
  },
  {
   "cell_type": "code",
   "execution_count": 77,
   "metadata": {},
   "outputs": [
    {
     "name": "stdout",
     "output_type": "stream",
     "text": [
      "(86, 3) (86, 1)\n"
     ]
    }
   ],
   "source": [
    "inputs = [\"Athletes\", \"Population\", \"GDP\"]\n",
    "X = olympics[inputs]\n",
    "y = olympics[[\"Total\"]]\n",
    "print(X.shape, y.shape)"
   ]
  },
  {
   "cell_type": "code",
   "execution_count": 78,
   "metadata": {},
   "outputs": [],
   "source": [
    "# Split the data into training and testing\n",
    "\n",
    "### BEGIN SOLUTION\n",
    "from sklearn.model_selection import train_test_split\n",
    "\n",
    "X_train, X_test, y_train, y_test = train_test_split(X, y)\n",
    "### END SOLUTION"
   ]
  },
  {
   "cell_type": "code",
   "execution_count": 101,
   "metadata": {},
   "outputs": [],
   "source": [
    "from sklearn.neural_network import MLPRegressor\n",
    "\n",
    "\n",
    "regr = MLPRegressor(max_iter = 500).fit(X_train, np.array(y_train['Total']))"
   ]
  },
  {
   "cell_type": "code",
   "execution_count": 102,
   "metadata": {},
   "outputs": [
    {
     "data": {
      "text/plain": [
       "array([25079.586375  , 66319.42135129])"
      ]
     },
     "execution_count": 102,
     "metadata": {},
     "output_type": "execute_result"
    }
   ],
   "source": [
    "regr.predict(X_test[:2])"
   ]
  },
  {
   "cell_type": "code",
   "execution_count": 103,
   "metadata": {},
   "outputs": [
    {
     "data": {
      "text/plain": [
       "-1490813802.7551758"
      ]
     },
     "execution_count": 103,
     "metadata": {},
     "output_type": "execute_result"
    }
   ],
   "source": [
    "regr.score(X_test, y_test)"
   ]
  },
  {
   "cell_type": "code",
   "execution_count": 104,
   "metadata": {},
   "outputs": [
    {
     "data": {
      "text/plain": [
       "array([8.46367471e+05, 1.71574697e+05, 3.61447057e+06, 3.79828638e+05,\n",
       "       2.14454246e+05, 3.34484769e+05, 1.76003812e+05, 1.33372426e+05,\n",
       "       1.60201217e+05, 6.26290133e+04, 4.46136810e+04, 2.59510327e+04,\n",
       "       5.47878722e+05, 1.22315179e+05, 1.21405577e+05, 7.18731536e+03,\n",
       "       1.11363034e+04, 3.00248104e+04, 1.21104242e+04, 9.44376027e+04,\n",
       "       8.25158661e+04, 4.62450862e+04, 1.27136854e+05, 2.18115607e+04,\n",
       "       2.08474081e+05, 2.85266014e+04, 1.14435314e+05, 1.49499200e+04,\n",
       "       2.58086158e+04, 1.44873661e+05, 1.19159694e+05, 1.87139301e+04,\n",
       "       1.00159945e+05, 6.63194214e+04, 2.97299367e+04, 1.79146967e+05,\n",
       "       1.42960727e+04, 9.69935943e+03, 2.54430224e+04, 2.50795864e+04,\n",
       "       2.07356111e+05, 7.95600379e+03, 2.78089175e+04, 2.62031609e+05,\n",
       "       5.43977141e+03, 6.78994056e+05, 5.22780969e+04, 3.62990549e+03,\n",
       "       2.41757868e+05, 6.22371792e+04, 1.02305276e+03, 5.98489497e+04,\n",
       "       1.04258280e+04, 2.35288210e+03, 2.00203152e+04, 4.68547610e+03,\n",
       "       9.15258924e+03, 1.45762358e+04, 2.23613011e+04, 7.99485339e+04,\n",
       "       3.34806074e+05, 8.19991767e+04, 1.04568856e+05, 1.22201370e+04,\n",
       "       7.67152851e+03, 1.89223011e+04, 3.45634448e+06, 7.80171396e+03,\n",
       "       2.94721792e+04, 2.81689634e+02, 5.24618729e+04, 2.65468026e+05,\n",
       "       5.88465585e+03, 1.36776906e+04, 2.41236095e+05, 2.92835025e+04,\n",
       "       2.20779730e+04, 2.26822055e+04, 2.77538174e+04, 3.45862156e+03,\n",
       "       1.44406905e+04, 9.06284969e+04, 4.80332439e+05, 2.72737888e+04,\n",
       "       3.58506368e+03, 2.41204884e+04])"
      ]
     },
     "execution_count": 104,
     "metadata": {},
     "output_type": "execute_result"
    }
   ],
   "source": [
    "regr.predict(olympics[inputs])"
   ]
  },
  {
   "cell_type": "code",
   "execution_count": 82,
   "metadata": {},
   "outputs": [],
   "source": [
    "from sklearn.preprocessing import StandardScaler\n",
    "\n",
    "# Create a StandardScater model and fit it to the training data\n",
    "\n",
    "### BEGIN SOLUTION\n",
    "X_scaler = StandardScaler().fit(X_train)\n",
    "y_scaler = StandardScaler().fit(y_train)\n",
    "### END SOLUTION"
   ]
  },
  {
   "cell_type": "code",
   "execution_count": 83,
   "metadata": {},
   "outputs": [],
   "source": [
    "# Transform the training and testing data using the X_scaler and y_scaler models\n",
    "\n",
    "### BEGIN SOLUTION\n",
    "X_train_scaled = X_scaler.transform(X_train)\n",
    "X_test_scaled = X_scaler.transform(X_test)\n",
    "y_train_scaled = y_scaler.transform(y_train)\n",
    "y_test_scaled = y_scaler.transform(y_test)\n",
    "### END SOLUTION"
   ]
  },
  {
   "cell_type": "code",
   "execution_count": 84,
   "metadata": {},
   "outputs": [
    {
     "data": {
      "text/plain": [
       "LinearRegression()"
      ]
     },
     "execution_count": 84,
     "metadata": {},
     "output_type": "execute_result"
    }
   ],
   "source": [
    "# Create a LinearRegression model and fit it to the scaled training data\n",
    "\n",
    "### BEGIN SOLUTION\n",
    "from sklearn.linear_model import LinearRegression\n",
    "model = LinearRegression()\n",
    "model.fit(X_train_scaled, y_train_scaled)\n",
    "### END SOLUTION"
   ]
  },
  {
   "cell_type": "code",
   "execution_count": 85,
   "metadata": {},
   "outputs": [
    {
     "data": {
      "image/png": "[encoded data removed]",
      "text/plain": [
       "<Figure size 432x288 with 1 Axes>"
      ]
     },
     "metadata": {
      "needs_background": "light"
     },
     "output_type": "display_data"
    }
   ],
   "source": [
    "# Make predictions using a fitted model\n",
    "# Plot the difference between the model predicted values and actual y values, versus the model predicted values\n",
    "# Hint: You can predict values of X training and testing data using the model.predict() method on a fitted model\n",
    "\n",
    "### BEGIN SOLUTION\n",
    "predictions = model.predict(X_test_scaled)\n",
    "model.fit(X_train_scaled, y_train_scaled)\n",
    "plt.scatter(model.predict(X_train_scaled), y_train_scaled - model.predict(X_train_scaled), c=\"blue\", label=\"Training Data\")\n",
    "plt.scatter(model.predict(X_test_scaled), y_test_scaled - model.predict(X_test_scaled), c=\"orange\", label=\"Testing Data\")\n",
    "plt.legend()\n",
    "plt.hlines(y=0, xmin=y_test_scaled.min(), xmax=y_test_scaled.max())\n",
    "plt.title(\"Residual Plot\")\n",
    "plt.show()\n",
    "### END SOLUTION"
   ]
  },
  {
   "cell_type": "code",
   "execution_count": 86,
   "metadata": {},
   "outputs": [
    {
     "name": "stdout",
     "output_type": "stream",
     "text": [
      "MSE: 0.23805819339327713, R2: 0.8403090928971836\n"
     ]
    }
   ],
   "source": [
    "# Used X_test_scaled, y_test_scaled, and model.predict(X_test_scaled) to calculate MSE and R2\n",
    "\n",
    "### BEGIN SOLUTION\n",
    "from sklearn.metrics import mean_squared_error\n",
    "\n",
    "MSE = mean_squared_error(y_test_scaled, predictions)\n",
    "r2 = model.score(X_test_scaled, y_test_scaled)\n",
    "### END SOLUTION\n",
    "\n",
    "print(f\"MSE: {MSE}, R2: {r2}\")"
   ]
  },
  {
   "cell_type": "code",
   "execution_count": 88,
   "metadata": {},
   "outputs": [
    {
     "data": {
      "text/plain": [
       "array([[-3.57754830e+07],\n",
       "       [-7.25069177e+06],\n",
       "       [-1.52671343e+08],\n",
       "       [-1.60435210e+07],\n",
       "       [-9.06245108e+06],\n",
       "       [-1.41332084e+07],\n",
       "       [-7.43695988e+06],\n",
       "       [-5.63493348e+06],\n",
       "       [-6.76864007e+06],\n",
       "       [-2.64683344e+06],\n",
       "       [-1.88519157e+06],\n",
       "       [-1.09602368e+06],\n",
       "       [-2.31414928e+07],\n",
       "       [-5.16751339e+06],\n",
       "       [-5.12742581e+06],\n",
       "       [-3.03489339e+05],\n",
       "       [-4.70305794e+05],\n",
       "       [-1.26807329e+06],\n",
       "       [-5.11522066e+05],\n",
       "       [-3.99072593e+06],\n",
       "       [-3.48499218e+06],\n",
       "       [-1.95329601e+06],\n",
       "       [-5.36979873e+06],\n",
       "       [-9.22204347e+05],\n",
       "       [-8.80730950e+06],\n",
       "       [-1.20500490e+06],\n",
       "       [-4.83377927e+06],\n",
       "       [-6.31747061e+05],\n",
       "       [-1.09065715e+06],\n",
       "       [-6.11894335e+06],\n",
       "       [-5.03248790e+06],\n",
       "       [-7.90298761e+05],\n",
       "       [-4.23065717e+06],\n",
       "       [-2.80091144e+06],\n",
       "       [-1.25625472e+06],\n",
       "       [-7.56667739e+06],\n",
       "       [-6.03865228e+05],\n",
       "       [-4.09617922e+05],\n",
       "       [-1.07457940e+06],\n",
       "       [-1.05915262e+06],\n",
       "       [-8.75854914e+06],\n",
       "       [-3.35990802e+05],\n",
       "       [-1.17466546e+06],\n",
       "       [-1.10666711e+07],\n",
       "       [-2.29741117e+05],\n",
       "       [-2.86779801e+07],\n",
       "       [-2.20809099e+06],\n",
       "       [-1.53315666e+05],\n",
       "       [-1.02106717e+07],\n",
       "       [-2.62937368e+06],\n",
       "       [-4.31887917e+04],\n",
       "       [-2.52769252e+06],\n",
       "       [-4.40499459e+05],\n",
       "       [-9.93167199e+04],\n",
       "       [-8.45590186e+05],\n",
       "       [-1.97907615e+05],\n",
       "       [-3.86725845e+05],\n",
       "       [-6.16080504e+05],\n",
       "       [-9.44409636e+05],\n",
       "       [-3.37700262e+06],\n",
       "       [-1.41419536e+07],\n",
       "       [-3.46351842e+06],\n",
       "       [-4.41655346e+06],\n",
       "       [-5.16493806e+05],\n",
       "       [-3.23986712e+05],\n",
       "       [-7.99185449e+05],\n",
       "       [-1.45978215e+08],\n",
       "       [-3.29464284e+05],\n",
       "       [-1.24471892e+06],\n",
       "       [-1.18918474e+04],\n",
       "       [-2.21567309e+06],\n",
       "       [-1.12122244e+07],\n",
       "       [-2.48766751e+05],\n",
       "       [-5.78246083e+05],\n",
       "       [-1.01887498e+07],\n",
       "       [-1.23675442e+06],\n",
       "       [-9.32890899e+05],\n",
       "       [-9.58513998e+05],\n",
       "       [-1.17223219e+06],\n",
       "       [-1.46054552e+05],\n",
       "       [-6.10213889e+05],\n",
       "       [-3.82769836e+06],\n",
       "       [-2.02870242e+07],\n",
       "       [-1.15210443e+06],\n",
       "       [-1.51412596e+05],\n",
       "       [-1.01931839e+06]])"
      ]
     },
     "execution_count": 88,
     "metadata": {},
     "output_type": "execute_result"
    }
   ],
   "source": [
    "model.predict(olympics[inputs])"
   ]
  },
  {
   "cell_type": "code",
   "execution_count": null,
   "metadata": {},
   "outputs": [],
   "source": []
  }
 ],
 "metadata": {
  "kernelspec": {
   "display_name": "Python 3",
   "language": "python",
   "name": "python3"
  },
  "language_info": {
   "codemirror_mode": {
    "name": "ipython",
    "version": 3
   },
   "file_extension": ".py",
   "mimetype": "text/x-python",
   "name": "python",
   "nbconvert_exporter": "python",
   "pygments_lexer": "ipython3",
   "version": "3.8.5"
  }
 },
 "nbformat": 4,
 "nbformat_minor": 4
}
